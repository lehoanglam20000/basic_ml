{
 "cells": [
  {
   "cell_type": "code",
   "execution_count": null,
   "id": "1591336b",
   "metadata": {},
   "outputs": [
    {
     "name": "stderr",
     "output_type": "stream",
     "text": [
      "2025-04-25 09:39:43.577498: I tensorflow/core/util/port.cc:153] oneDNN custom operations are on. You may see slightly different numerical results due to floating-point round-off errors from different computation orders. To turn them off, set the environment variable `TF_ENABLE_ONEDNN_OPTS=0`.\n",
      "2025-04-25 09:39:43.578943: I external/local_xla/xla/tsl/cuda/cudart_stub.cc:32] Could not find cuda drivers on your machine, GPU will not be used.\n",
      "2025-04-25 09:39:43.582530: I external/local_xla/xla/tsl/cuda/cudart_stub.cc:32] Could not find cuda drivers on your machine, GPU will not be used.\n",
      "2025-04-25 09:39:43.591657: E external/local_xla/xla/stream_executor/cuda/cuda_fft.cc:467] Unable to register cuFFT factory: Attempting to register factory for plugin cuFFT when one has already been registered\n",
      "WARNING: All log messages before absl::InitializeLog() is called are written to STDERR\n",
      "E0000 00:00:1745573983.606320   11344 cuda_dnn.cc:8579] Unable to register cuDNN factory: Attempting to register factory for plugin cuDNN when one has already been registered\n",
      "E0000 00:00:1745573983.610613   11344 cuda_blas.cc:1407] Unable to register cuBLAS factory: Attempting to register factory for plugin cuBLAS when one has already been registered\n",
      "W0000 00:00:1745573983.622681   11344 computation_placer.cc:177] computation placer already registered. Please check linkage and avoid linking the same target more than once.\n",
      "W0000 00:00:1745573983.622699   11344 computation_placer.cc:177] computation placer already registered. Please check linkage and avoid linking the same target more than once.\n",
      "W0000 00:00:1745573983.622701   11344 computation_placer.cc:177] computation placer already registered. Please check linkage and avoid linking the same target more than once.\n",
      "W0000 00:00:1745573983.622702   11344 computation_placer.cc:177] computation placer already registered. Please check linkage and avoid linking the same target more than once.\n",
      "2025-04-25 09:39:43.626674: I tensorflow/core/platform/cpu_feature_guard.cc:210] This TensorFlow binary is optimized to use available CPU instructions in performance-critical operations.\n",
      "To enable the following instructions: AVX2 AVX512F AVX512_VNNI FMA, in other operations, rebuild TensorFlow with the appropriate compiler flags.\n",
      "2025-04-25 09:39:46.466727: E external/local_xla/xla/stream_executor/cuda/cuda_platform.cc:51] failed call to cuInit: INTERNAL: CUDA error: Failed call to cuInit: UNKNOWN ERROR (303)\n"
     ]
    },
    {
     "name": "stdout",
     "output_type": "stream",
     "text": [
      "Epoch 1/3\n",
      "\u001b[1m235/235\u001b[0m \u001b[32m━━━━━━━━━━━━━━━━━━━━\u001b[0m\u001b[37m\u001b[0m \u001b[1m4s\u001b[0m 10ms/step - loss: 0.3422 - val_loss: 0.1656\n",
      "Epoch 2/3\n",
      "\u001b[1m235/235\u001b[0m \u001b[32m━━━━━━━━━━━━━━━━━━━━\u001b[0m\u001b[37m\u001b[0m \u001b[1m2s\u001b[0m 10ms/step - loss: 0.1581 - val_loss: 0.1365\n",
      "Epoch 3/3\n",
      "\u001b[1m235/235\u001b[0m \u001b[32m━━━━━━━━━━━━━━━━━━━━\u001b[0m\u001b[37m\u001b[0m \u001b[1m2s\u001b[0m 9ms/step - loss: 0.1343 - val_loss: 0.1244\n",
      "\u001b[1m313/313\u001b[0m \u001b[32m━━━━━━━━━━━━━━━━━━━━\u001b[0m\u001b[37m\u001b[0m \u001b[1m0s\u001b[0m 1ms/step\n"
     ]
    }
   ],
   "source": [
    "# Import necessary libraries\n",
    "import numpy as np\n",
    "import matplotlib.pyplot as plt\n",
    "from keras.datasets import mnist\n",
    "from keras.models import Model\n",
    "from keras.layers import Input, Dense\n",
    "\n",
    "# Load the MNIST dataset\n",
    "(x_train, _), (x_test, _) = mnist.load_data()\n",
    "x_train = x_train.astype('float32') / 255.\n",
    "x_test = x_test.astype('float32') / 255.\n",
    "x_train = x_train.reshape((len(x_train), np.prod(x_train.shape[1:])))\n",
    "x_test = x_test.reshape((len(x_test), np.prod(x_test.shape[1:])))\n",
    "\n",
    "# Define the encoder\n",
    "input_img = Input(shape=(784,))\n",
    "encoded = Dense(128, activation='relu')(input_img)\n",
    "encoded = Dense(64, activation='relu')(encoded)\n",
    "encoded = Dense(32, activation='relu')(encoded)\n",
    "\n",
    "# Define the decoder\n",
    "\n",
    "decoded = Dense(64, activation='relu')(encoded)\n",
    "decoded = Dense(128, activation='relu')(decoded)\n",
    "decoded = Dense(784, activation='sigmoid')(decoded)\n",
    "\n",
    "# Combine encoder and decoder into an auto-encoder model\n",
    "autoencoder = Model(input_img, decoded)\n",
    "autoencoder.compile(optimizer='adam', loss='binary_crossentropy')\n",
    "\n",
    "# Train the model\n",
    "autoencoder.fit(x_train, x_train,\n",
    "                epochs=3,\n",
    "                batch_size=256,\n",
    "                shuffle=True,\n",
    "                validation_data=(x_test, x_test))\n",
    "\n",
    "# Evaluate the model\n",
    "decoded_imgs = autoencoder.predict(x_test)\n",
    "\n"
   ]
  },
  {
   "cell_type": "markdown",
   "id": "a0651b38",
   "metadata": {},
   "source": [
    "Epoch 1/3\n",
    "235/235: This indicates that the training process has completed all 235 steps (or batches) for the first epoch. In this case, it means that the model has processed all the batches of the training data for one epoch.\n",
    "\n",
    "4s 10ms/step: This shows the time taken to process each step (or batch). Here, it took approximately 4 seconds and 10 milliseconds per step.\n",
    "\n",
    "loss: 0.3422: This is the loss value calculated on the training data at the end of the epoch. A lower loss value generally indicates better model performance.\n",
    "\n",
    "val_loss: 0.1656: This is the loss value calculated on the validation data at the end of the epoch. The validation loss helps to monitor the model's performance on unseen data and can be used to detect overfitting."
   ]
  },
  {
   "cell_type": "code",
   "execution_count": 4,
   "id": "45ba227f",
   "metadata": {},
   "outputs": [
    {
     "data": {
      "text/plain": [
       "(60000, 784)"
      ]
     },
     "execution_count": 4,
     "metadata": {},
     "output_type": "execute_result"
    }
   ],
   "source": [
    "len(x_train)\n",
    "x_train.shape"
   ]
  },
  {
   "cell_type": "markdown",
   "id": "c68fcf7b",
   "metadata": {},
   "source": [
    "### Explanation of the Number 235 in the Log\n",
    "\n",
    "log: 235, but we set 256. Why?\n",
    "In the MNIST dataset, there are 60,000 training samples. When you set a batch size of 256, the number of steps per epoch is calculated as the total number of training samples divided by the batch size.\n",
    "\n",
    "Here's the calculation:\n",
    "$$ \\text{Number of steps per epoch} = \\frac{\\text{Total number of training samples}}{\\text{Batch size}} = \\frac{60,000}{256} \\approx 234.375 $$\n"
   ]
  },
  {
   "cell_type": "code",
   "execution_count": 7,
   "id": "407bb5f2",
   "metadata": {},
   "outputs": [
    {
     "data": {
      "text/plain": [
       "numpy.ndarray"
      ]
     },
     "execution_count": 7,
     "metadata": {},
     "output_type": "execute_result"
    }
   ],
   "source": [
    "type(x_train)"
   ]
  },
  {
   "cell_type": "markdown",
   "id": "0e3f4fe2",
   "metadata": {},
   "source": [
    "# Initialize model parameters\n",
    "initialize_model_parameters()\n",
    "\n",
    "# Divide dataset into mini-batches of 5 samples each\n",
    "mini_batches = divide_dataset_into_mini_batches(dataset, batch_size=5)\n",
    "\n",
    "# Loop through each epoch\n",
    "for epoch in range(num_epochs):\n",
    "    # Loop through each mini-batch\n",
    "    for mini_batch in mini_batches:\n",
    "        # Forward pass: Compute output predictions\n",
    "        predictions = forward_pass(model, mini_batch)\n",
    "\n",
    "        # Compute loss: Calculate loss for the mini-batch\n",
    "        loss = compute_loss(predictions, mini_batch_targets)\n",
    "\n",
    "        # Backward pass: Compute gradients of the loss with respect to model parameters\n",
    "        gradients = backward_pass(loss, model_parameters)\n",
    "\n",
    "        # Update model parameters: Use gradients to update model parameters\n",
    "        update_model_parameters(model_parameters, gradients)\n",
    "\n",
    "    # End of epoch: Optionally, evaluate model performance on validation set\n",
    "    validation_loss = evaluate_model(model, validation_set)\n",
    "    print(f\"Epoch {epoch+1}/{num_epochs} - Validation Loss: {validation_loss}\")\n",
    "\n",
    "# End of training: Optionally, save the trained model\n",
    "save_model(model)\n"
   ]
  },
  {
   "cell_type": "markdown",
   "id": "f49e5b89",
   "metadata": {},
   "source": [
    "#### Batch Training\n",
    "    Batch training involves dividing the dataset into smaller batches and processing each batch independently. This approach is beneficial for large datasets as it reduces memory usage and can speed up training. The batch size determines the number of samples processed before the model is updated. Common batch sizes include 32, 64, 128, and 256. The choice of batch size can affect the model's performance and training time.\n",
    "#### Mini-Batch Training\n",
    "Mini-batch training is a variant of batch training where the dataset is divided into smaller batches, typically ranging from 1 to 256 samples. This approach strikes a balance between batch training and stochastic training, providing faster convergence and more stable updates. Mini-batch training is widely used in practice due to its efficiency and effectiveness.\n",
    "#### Stochastic Training\n",
    "Stochastic training, also known as online training, involves updating the model parameters after processing each individual sample. This approach can lead to faster convergence but may result in noisy updates. Stochastic training is suitable for small datasets or scenarios where real-time updates are required."
   ]
  },
  {
   "cell_type": "markdown",
   "id": "1d302b64",
   "metadata": {},
   "source": []
  },
  {
   "cell_type": "markdown",
   "id": "165556e6",
   "metadata": {},
   "source": []
  },
  {
   "cell_type": "code",
   "execution_count": 2,
   "id": "b423bc7c",
   "metadata": {},
   "outputs": [
    {
     "data": {
      "image/png": "[encoded data removed]",
      "text/plain": [
       "<Figure size 2000x400 with 20 Axes>"
      ]
     },
     "metadata": {},
     "output_type": "display_data"
    }
   ],
   "source": [
    "# Visualize the results\n",
    "n = 10  # Number of digits to display\n",
    "plt.figure(figsize=(20, 4))\n",
    "for i in range(n):\n",
    "    # Display original\n",
    "    ax = plt.subplot(2, n, i + 1)\n",
    "    plt.imshow(x_test[i].reshape(28, 28))\n",
    "    plt.gray()\n",
    "    ax.get_xaxis().set_visible(False)\n",
    "    ax.get_yaxis().set_visible(False)\n",
    "\n",
    "    # Display reconstruction\n",
    "    ax = plt.subplot(2, n, i + 1 + n)\n",
    "    plt.imshow(decoded_imgs[i].reshape(28, 28))\n",
    "    plt.gray()\n",
    "    ax.get_xaxis().set_visible(False)\n",
    "    ax.get_yaxis().set_visible(False)\n",
    "plt.show()\n"
   ]
  },
  {
   "cell_type": "code",
   "execution_count": null,
   "id": "a723dff5",
   "metadata": {},
   "outputs": [],
   "source": []
  }
 ],
 "metadata": {
  "kernelspec": {
   "display_name": "Python 3",
   "language": "python",
   "name": "python3"
  },
  "language_info": {
   "codemirror_mode": {
    "name": "ipython",
    "version": 3
   },
   "file_extension": ".py",
   "mimetype": "text/x-python",
   "name": "python",
   "nbconvert_exporter": "python",
   "pygments_lexer": "ipython3",
   "version": "3.12.1"
  }
 },
 "nbformat": 4,
 "nbformat_minor": 5
}
